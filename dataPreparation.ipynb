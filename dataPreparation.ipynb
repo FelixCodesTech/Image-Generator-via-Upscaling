{
 "cells": [
  {
   "cell_type": "markdown",
   "metadata": {},
   "source": [
    "# Imports"
   ]
  },
  {
   "cell_type": "code",
   "execution_count": 15,
   "metadata": {},
   "outputs": [],
   "source": [
    "import cv2\n",
    "import os"
   ]
  },
  {
   "cell_type": "markdown",
   "metadata": {},
   "source": [
    "# Config"
   ]
  },
  {
   "cell_type": "code",
   "execution_count": 16,
   "metadata": {},
   "outputs": [],
   "source": [
    "# Path to the video file\n",
    "video_path = \"footage/MinecraftFootageLong.mp4\"\n",
    "\n",
    "# Resolution of the frames\n",
    "resolution = (256, 256)\n",
    "\n",
    "# Output directory for saving the frames\n",
    "output_dir = f\"minecraftData/data{resolution[0]}x{resolution[1]}\"\n"
   ]
  },
  {
   "cell_type": "markdown",
   "metadata": {},
   "source": [
    "# Processing"
   ]
  },
  {
   "cell_type": "code",
   "execution_count": 17,
   "metadata": {},
   "outputs": [],
   "source": [
    "# Create the output directory if it doesn't exist\n",
    "os.makedirs(output_dir, exist_ok=True)\n",
    "\n",
    "# Open the video file\n",
    "video = cv2.VideoCapture(video_path)\n",
    "\n",
    "# Initialize frame counter\n",
    "frame_number = 0\n",
    "\n",
    "# Read frames from the video\n",
    "while True:\n",
    "    # Read the next frame\n",
    "    ret, frame = video.read()\n",
    "\n",
    "    # If the frame was not read successfully, exit the loop\n",
    "    if not ret:\n",
    "        break\n",
    "\n",
    "    # Convert the frame to black and white\n",
    "    gray_frame = cv2.cvtColor(frame, cv2.COLOR_BGR2GRAY)\n",
    "\n",
    "    # Resize the frame to 8x8 pixels\n",
    "    resized_frame = cv2.resize(gray_frame, resolution)\n",
    "\n",
    "    # Save the frame as a PNG file\n",
    "    frame_path = os.path.join(output_dir, f\"frame-{frame_number}.png\")\n",
    "    cv2.imwrite(frame_path, resized_frame)\n",
    "\n",
    "    # Increment the frame counter\n",
    "    frame_number += 1\n",
    "\n",
    "# Release the video file\n",
    "video.release()\n"
   ]
  }
 ],
 "metadata": {
  "kernelspec": {
   "display_name": "Python 3",
   "language": "python",
   "name": "python3"
  },
  "language_info": {
   "codemirror_mode": {
    "name": "ipython",
    "version": 3
   },
   "file_extension": ".py",
   "mimetype": "text/x-python",
   "name": "python",
   "nbconvert_exporter": "python",
   "pygments_lexer": "ipython3",
   "version": "3.11.1"
  }
 },
 "nbformat": 4,
 "nbformat_minor": 2
}
